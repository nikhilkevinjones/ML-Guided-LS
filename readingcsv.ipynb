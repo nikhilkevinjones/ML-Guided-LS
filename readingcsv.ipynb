{
 "cells": [
  {
   "cell_type": "code",
   "execution_count": 18,
   "id": "31db821c-b6f2-4281-a4c7-bf85e6e45435",
   "metadata": {},
   "outputs": [
    {
     "name": "stdout",
     "output_type": "stream",
     "text": [
      "Contents of the CSV file:\n",
      "                             fileName\n",
      "2700   ac97_ctrl_syn1000_step0.pt.zip\n",
      "8390   ac97_ctrl_syn1001_step0.pt.zip\n",
      "12416  ac97_ctrl_syn1002_step0.pt.zip\n",
      "2807   ac97_ctrl_syn1003_step0.pt.zip\n",
      "8746   ac97_ctrl_syn1004_step0.pt.zip\n",
      "...                               ...\n",
      "1172      wb_dma_syn1495_step0.pt.zip\n",
      "2134      wb_dma_syn1496_step0.pt.zip\n",
      "3489      wb_dma_syn1497_step0.pt.zip\n",
      "5500      wb_dma_syn1498_step0.pt.zip\n",
      "2294      wb_dma_syn1499_step0.pt.zip\n",
      "\n",
      "[13500 rows x 1 columns]\n",
      "Number of rows in the CSV file: 13500\n",
      "Number of columns in the CSV file: 1\n"
     ]
    }
   ],
   "source": [
    "import pandas as pd\n",
    "\n",
    "# Specify the path to your CSV file\n",
    "csv_file_path = '//scratch-local/jones/OPENABC2_DATASET/lp1/test_data_set1.csv'\n",
    "\n",
    "# Read the CSV file using pandas\n",
    "data_frame = pd.read_csv(csv_file_path)\n",
    "\n",
    "# Sort the DataFrame by the specified column in ascending order\n",
    "sorted_data_frame = data_frame.sort_values(by='fileName', ascending=True)\n",
    "\n",
    "# Display the contents of the CSV file\n",
    "print(\"Contents of the CSV file:\")\n",
    "print(sorted_data_frame)\n",
    "\n",
    "# # Get the size of the CSV file in bytes\n",
    "# file_size = data_frame.memory_usage(deep=True).sum()\n",
    "# print(\"Size of the CSV file: {} bytes\".format(file_size))\n",
    "\n",
    "# Get the number of rows and columns in the CSV file\n",
    "num_rows = len(data_frame)\n",
    "num_columns = len(data_frame.columns)\n",
    "print(\"Number of rows in the CSV file: {}\".format(num_rows))\n",
    "print(\"Number of columns in the CSV file: {}\".format(num_columns))\n",
    "\n"
   ]
  },
  {
   "cell_type": "code",
   "execution_count": 19,
   "id": "d999c6f8-c23f-4439-8579-de023b7b3c3e",
   "metadata": {},
   "outputs": [
    {
     "name": "stdout",
     "output_type": "stream",
     "text": [
      "Number of .zip rows of test: 13500\n",
      "Number of .zip rows of train: 27000\n"
     ]
    }
   ],
   "source": [
    "import pandas as pd\n",
    "\n",
    "# Specify the path to your file\n",
    "csv_file_path = '//scratch-local/jones/OPENABC2_DATASET/lp1/test_data_set1.csv'\n",
    "csv_file_path2 = '//scratch-local/jones/OPENABC2_DATASET/lp1/train_data_set1.csv'\n",
    "\n",
    "data_frame = pd.read_csv(csv_file_path)\n",
    "data_frame2 = pd.read_csv(csv_file_path2)\n",
    "\n",
    "# Extract the file extensions\n",
    "data_frame['Extension'] = data_frame['fileName'].str.extract(r'\\.(\\w+)$')\n",
    "data_frame2['Extension'] = data_frame2['fileName'].str.extract(r'\\.(\\w+)$')\n",
    "\n",
    "# Count the number of rows with .zip extension\n",
    "zip_rows = len(data_frame[data_frame['Extension'] == 'zip'])\n",
    "zip_rows2 = len(data_frame2[data_frame2['Extension'] == 'zip'])\n",
    "\n",
    "# Count the number of rows with .pt extension\n",
    "pt_rows = len(data_frame[data_frame['Extension'] == 'pt'])\n",
    "pt_rows2= len(data_frame2[data_frame2['Extension'] == 'pt'])\n",
    "\n",
    "# Print the results\n",
    "print(\"Number of .zip rows of test:\", zip_rows)\n",
    "print(\"Number of .zip rows of train:\", zip_rows2)\n",
    "#print(\"Number of .pt rows:\", pt_rows)"
   ]
  },
  {
   "cell_type": "markdown",
   "id": "78e42b4e-5a89-4ec2-8fc5-1be9d61ea26d",
   "metadata": {},
   "source": [
    "# Finding 'vga' type files"
   ]
  },
  {
   "cell_type": "code",
   "execution_count": 20,
   "id": "49441a45-fee6-4231-be31-34863bc3bd66",
   "metadata": {},
   "outputs": [
    {
     "name": "stdout",
     "output_type": "stream",
     "text": [
      "Total number of items in the folder: 63010\n",
      "\n",
      "1500\n",
      "bp_be_syn1395_step0.pt.zip\n"
     ]
    }
   ],
   "source": [
    "import os\n",
    "\n",
    "\n",
    "# Specify the path to the folder\n",
    "folder_path = '//scratch-local/jones/OPENABC2_DATASET/lp1/processed/'\n",
    "\n",
    "# Get the list of items in the folder\n",
    "folder_items = os.listdir(folder_path)\n",
    "\n",
    "# Count the number of items\n",
    "num_items = len(folder_items)\n",
    "\n",
    "# Print the total number of items in the folder\n",
    "print(f\"Total number of items in the folder: {num_items}\\n\")\n",
    "    \n",
    "# Set the target file type\n",
    "target_file_type = \"bp\"\n",
    "\n",
    "# Count the number of files with 'bp' in the filename\n",
    "num_bp_files = sum('bp' in filename for filename in folder_items)\n",
    "print(num_bp_files)\n",
    "# Initialize the count\n",
    "count = 0\n",
    "limit =1\n",
    "\n",
    "# Iterate over the files in the folder\n",
    "for file_name in os.listdir(folder_path):\n",
    "    \n",
    "    if target_file_type in file_name:\n",
    "        print(file_name)\n",
    "        count += 1\n",
    "        \n",
    "    if count == limit:\n",
    "        break\n"
   ]
  },
  {
   "cell_type": "markdown",
   "id": "7149cdde-a5f6-41d7-a436-5ccac228bee4",
   "metadata": {},
   "source": [
    "---"
   ]
  },
  {
   "cell_type": "code",
   "execution_count": 13,
   "id": "cb5cf074-76fc-41e1-ab63-23407b4bc358",
   "metadata": {},
   "outputs": [
    {
     "data": {
      "text/plain": [
       "torch_geometric.data.data.Data"
      ]
     },
     "execution_count": 13,
     "metadata": {},
     "output_type": "execute_result"
    }
   ],
   "source": [
    "import torch\n",
    "pt1 = torch.load('//scratch-local/jones/OPENABC2_DATASET/lp1/processed/vga_lcd_syn1025_step0.pt')\n",
    "type(pt1)"
   ]
  },
  {
   "cell_type": "markdown",
   "id": "e3f63f6e-83a7-463c-ab42-602007f9d4cd",
   "metadata": {
    "tags": []
   },
   "source": [
    "---\n",
    "---\n",
    "# <span style='color:Black'>    **Plotting the input i.e Visualization using Networkx** </span>"
   ]
  },
  {
   "cell_type": "code",
   "execution_count": 54,
   "id": "2e1b1ea8-a903-465c-be8c-3ea6168b718e",
   "metadata": {
    "tags": []
   },
   "outputs": [
    {
     "name": "stdout",
     "output_type": "stream",
     "text": [
      "Rocket_full_syn507_step0.pt\n",
      "tinyRocket_syn606_step0.pt\n",
      "s35932_syn508_step0.pt\n",
      "jpeg_syn86_step0.pt\n",
      "Rocket_muldiv_syn1456_step0.pt\n",
      "ss_pcm_syn469_step0.pt\n",
      "vga_lcd_syn1025_step0.pt\n",
      "des3_area_syn53_step0.pt\n",
      "or1200_fpu_syn711_step0.pt\n",
      "s38584_syn175_step0.pt\n"
     ]
    }
   ],
   "source": [
    "import os\n",
    "import zipfile\n",
    "import networkx as nx\n",
    "\n",
    "# Specify the path to your folder\n",
    "folder_path = '//scratch-local/jones/OPENABC2_DATASET/lp1/processed/'\n",
    "\n",
    "# Set the maximum number of files to unpack\n",
    "max_files = 10\n",
    "\n",
    "# Initialize a counter for the extracted files\n",
    "file_count = 0\n",
    "\n",
    "# Create an empty graph\n",
    "graph = nx.Graph()\n",
    "\n",
    "# Iterate over the files in the folder\n",
    "for file_name in os.listdir(folder_path):\n",
    "    if file_name.endswith('.zip'):\n",
    "        zip_file_path = os.path.join(folder_path, file_name)\n",
    "\n",
    "        # Extract the contents of the zip file\n",
    "        with zipfile.ZipFile(zip_file_path, 'r') as zip_file:\n",
    "            # Process the contents of the zip file and perform desired operations\n",
    "            printed_files = 0\n",
    "            # Example: Print the names of the files within the zip\n",
    "            for zip_member in zip_file.namelist():\n",
    "                print(zip_member)\n",
    "            \n",
    "            file_count += 1\n",
    "        \n",
    "        # Break the loop if the maximum number of files is reached\n",
    "        if file_count >= max_files:\n",
    "            break\n"
   ]
  },
  {
   "cell_type": "markdown",
   "id": "5c47f045-4a40-492a-b921-2e36110717b8",
   "metadata": {},
   "source": [
    "---\n",
    "# find content of the file\n",
    "---"
   ]
  },
  {
   "cell_type": "code",
   "execution_count": 21,
   "id": "a90999e8-0e94-4026-a536-5e39d6b2300f",
   "metadata": {},
   "outputs": [
    {
     "name": "stdout",
     "output_type": "stream",
     "text": [
      "<class 'torch_geometric.data.data.Data'>\n",
      "Data(and_nodes=52315, desName=[1], edge_index=[2, 108811], edge_type=[108811], longest_path=80, node_id=[61057], node_type=[61057], not_edges=67410, num_inverted_predecessors=[61057], pi=4561, po=4181, stepID=[1], synID=[1], synVec=[20])\n",
      "\n",
      "Number of nodes: 52315\n"
     ]
    }
   ],
   "source": [
    "import torch\n",
    "\n",
    "# Specify the path to the file\n",
    "file_path = '/scratch-local/jones/OPENABC2_DATASET/lp1/processed/tinyRocket_syn606_step0.pt'\n",
    "file_path2= '/'\n",
    "# Load the contents of the file\n",
    "contents = torch.load(file_path)\n",
    "\n",
    "# Print the contents\n",
    "print(type(contents))\n",
    "print(contents)\n",
    "print(f'\\nNumber of nodes: {contents.and_nodes}')\n",
    "#print(f'Longest Path: {contents.longest_path}')\n",
    "#print(f'is undirected: {contents.is_undirected()}')"
   ]
  },
  {
   "cell_type": "markdown",
   "id": "6bd7feab-05ec-49a7-8c50-6c87d2440d33",
   "metadata": {},
   "source": [
    "# read the results"
   ]
  },
  {
   "cell_type": "code",
   "execution_count": 2,
   "id": "13de4d37-4ea3-494b-8202-a6d829fb1b2b",
   "metadata": {},
   "outputs": [
    {
     "name": "stdout",
     "output_type": "stream",
     "text": [
      "Contents of the CSV file:\n",
      "          design  top1  top5  top10     top15  top20  top25\n",
      "0            iir   0.0  0.16   0.30  0.306667   0.37  0.432\n",
      "1        vga_lcd   0.2  0.08   0.16  0.213333   0.36  0.416\n",
      "2            fir   0.0  0.24   0.26  0.266667   0.35  0.432\n",
      "3            i2c   0.0  0.04   0.18  0.320000   0.43  0.496\n",
      "4        picosoc   0.0  0.00   0.26  0.360000   0.46  0.552\n",
      "5            pci   0.0  0.24   0.34  0.480000   0.48  0.544\n",
      "6      des3_area   0.0  0.16   0.30  0.386667   0.48  0.552\n",
      "7            fpu   0.2  0.36   0.38  0.426667   0.51  0.576\n",
      "8          bp_be   0.2  0.52   0.64  0.706667   0.77  0.768\n",
      "9      wb_conmax   0.0  0.04   0.12  0.320000   0.46  0.536\n",
      "10           aes   0.0  0.40   0.50  0.546667   0.61  0.680\n",
      "11    simple_spi   0.0  0.08   0.26  0.333333   0.43  0.496\n",
      "12          sasc   0.2  0.04   0.22  0.320000   0.37  0.424\n",
      "13        wb_dma   0.0  0.28   0.28  0.413333   0.42  0.504\n",
      "14      mem_ctrl   0.2  0.12   0.26  0.333333   0.41  0.480\n",
      "15        sha256   0.0  0.04   0.12  0.240000   0.33  0.376\n",
      "16          jpeg   0.0  0.12   0.20  0.253333   0.37  0.448\n",
      "17          tv80   0.0  0.16   0.44  0.453333   0.53  0.528\n",
      "18       usb_phy   0.0  0.08   0.20  0.240000   0.30  0.376\n",
      "19     ac97_ctrl   0.0  0.16   0.26  0.466667   0.54  0.608\n",
      "20  aes_secworks   0.0  0.40   0.54  0.573333   0.67  0.736\n",
      "21        ss_pcm   0.0  0.08   0.20  0.293333   0.31  0.368\n",
      "22      ethernet   0.2  0.20   0.30  0.466667   0.51  0.560\n",
      "23    tinyRocket   0.0  0.32   0.54  0.560000   0.59  0.624\n",
      "24           spi   0.0  0.08   0.20  0.253333   0.40  0.528\n",
      "25    aes_xcrypt   0.4  0.28   0.52  0.586667   0.55  0.640\n",
      "26  dynamic_node   0.0  0.20   0.28  0.360000   0.44  0.464\n",
      "Number of rows in the CSV file: 27\n"
     ]
    }
   ],
   "source": [
    "import pandas as pd\n",
    "\n",
    "# Specify the path to your CSV file\n",
    "csv_file_path = '//scratch-local/jones/OpenABC/runs/topKaccuracy_test.csv'\n",
    "\n",
    "# Read the CSV file using pandas\n",
    "data_frame = pd.read_csv(csv_file_path)\n",
    "\n",
    "# Sort the DataFrame by the specified column in ascending order\n",
    "#sorted_data_frame = data_frame.sort_values(by='fileName', ascending=True)\n",
    "\n",
    "# Display the contents of the CSV file\n",
    "print(\"Contents of the CSV file:\")\n",
    "print(data_frame)\n",
    "\n",
    "\n",
    "\n",
    "# Get the number of rows and columns in the CSV file\n",
    "num_rows = len(data_frame)\n",
    "#num_columns = len(data_frame.columns)\n",
    "print(\"Number of rows in the CSV file: {}\".format(num_rows))\n",
    "#print(\"Number of columns in the CSV file: {}\".format(num_columns))"
   ]
  },
  {
   "cell_type": "code",
   "execution_count": 1,
   "id": "60d41e19-3334-465b-9cdb-fe296044ff66",
   "metadata": {},
   "outputs": [
    {
     "name": "stdout",
     "output_type": "stream",
     "text": [
      "Contents of the CSV file:\n",
      "       designs  synID  prediction    actual\n",
      "0    des3_area   1276   -0.737913 -3.188051\n",
      "1    des3_area   1038   -0.802376 -2.708917\n",
      "2    des3_area   1367   -0.552023 -2.229783\n",
      "3    des3_area   1328   -0.098782 -2.070072\n",
      "4    des3_area   1154   -0.649415 -2.070072\n",
      "..         ...    ...         ...       ...\n",
      "495  des3_area   1107    1.193354  2.561557\n",
      "496  des3_area   1063    0.909483  3.040691\n",
      "497  des3_area   1495    1.740967  3.200402\n",
      "498  des3_area   1052    1.814630  3.200402\n",
      "499  des3_area   1092    1.776250  3.200402\n",
      "\n",
      "[500 rows x 4 columns]\n",
      "predicted\n",
      "       designs  synID  prediction    actual\n",
      "0    des3_area   1258   -1.319629 -0.632670\n",
      "1    des3_area   1313   -1.274773 -0.632670\n",
      "2    des3_area   1047   -1.246045 -0.792381\n",
      "3    des3_area   1060   -1.180981 -1.111804\n",
      "4    des3_area   1057   -1.150313 -1.111804\n",
      "..         ...    ...         ...       ...\n",
      "495  des3_area   1299    1.477156  2.082423\n",
      "496  des3_area   1364    1.539202  1.124155\n",
      "497  des3_area   1495    1.740967  3.200402\n",
      "498  des3_area   1092    1.776250  3.200402\n",
      "499  des3_area   1052    1.814630  3.200402\n",
      "\n",
      "[500 rows x 4 columns]\n"
     ]
    }
   ],
   "source": [
    "import pandas as pd\n",
    "\n",
    "# Specify the path to your CSV file\n",
    "actualvalues = '//scratch-local/jones/OpenABC/runs/desDF1_test_des3_area.csv'\n",
    "predval = '//scratch-local/jones/OpenABC/runs/desDF2_test_des3_area.csv' #sorting it by prediction\n",
    "\n",
    "# Read the CSV file using pandas\n",
    "act1 = pd.read_csv(actualvalues)\n",
    "pred1=pd.read_csv(predval)\n",
    "\n",
    "# Sort the DataFrame by the specified column in ascending order\n",
    "#sorted_data_frame = data_frame.sort_values(by='fileName', ascending=True)\n",
    "\n",
    "# Display the contents of the CSV file\n",
    "print(\"Contents of the CSV file:\")\n",
    "print(act1)\n",
    "\n",
    "print(\"predicted\")\n",
    "print(pred1)\n"
   ]
  },
  {
   "cell_type": "code",
   "execution_count": null,
   "id": "67874f8b-85fd-4720-b5f7-7ec0b0a161aa",
   "metadata": {},
   "outputs": [],
   "source": [
    "val accuracy"
   ]
  },
  {
   "cell_type": "code",
   "execution_count": 9,
   "id": "5713806c-3808-4c37-ae23-9fd26bc7ffec",
   "metadata": {},
   "outputs": [
    {
     "data": {
      "image/png": "[encoded data removed]",
      "text/plain": [
       "<Figure size 1000x500 with 1 Axes>"
      ]
     },
     "metadata": {},
     "output_type": "display_data"
    },
    {
     "data": {
      "text/plain": [
       "<Figure size 640x480 with 0 Axes>"
      ]
     },
     "metadata": {},
     "output_type": "display_data"
    }
   ],
   "source": [
    "%matplotlib inline\n",
    "import matplotlib.pyplot as plt\n",
    "import tikzplotlib\n",
    "\n",
    "# Your data\n",
    "values = [0.14216683969256852, 0.5378675069412276, 0.5564719845701008, 0.559786666100286, 0.5549863959034047, 0.5674454223220771, 0.559857959645415, 0.5635318123807873, 0.5569684498310609, 0.5672688779574473, 0.5745994937006428, 0.5761144794155498, 0.5821362994941112, 0.584178753083581, 0.5877621816270227, 0.5814643513183603, 0.5711631395490337, 0.5832413968211653, 0.5918291530151343, 0.6008774462567288, 0.6015413555453342]\n",
    "\n",
    "# Plotting\n",
    "#plt.plot(range(0, 21), values, marker='o')\n",
    "\n",
    "# Plot the validation loss\n",
    "plt.figure(figsize=(10, 5))\n",
    "plt.plot(range(0, 21), values, marker='o', label='Validation acc')\n",
    "plt.xticks(range(0, 21, 1))\n",
    "\n",
    "plt.xlabel('Epoch')\n",
    "plt.ylabel('acc')\n",
    "plt.title('Validation acc vs. Epochs')\n",
    "\n",
    "\n",
    "plt.grid(True)\n",
    "plt.legend()\n",
    "plt.show()\n",
    "\n",
    "# Save the plot as a .tex file\n",
    "tikzplotlib.save('values_plot.tex')\n"
   ]
  },
  {
   "cell_type": "code",
   "execution_count": 10,
   "id": "7c4b42df-f621-4f59-bc50-6c1ec8d9b5ff",
   "metadata": {
    "tags": []
   },
   "outputs": [
    {
     "data": {
      "image/png": "[encoded data removed]",
      "text/plain": [
       "<Figure size 1000x500 with 1 Axes>"
      ]
     },
     "metadata": {},
     "output_type": "display_data"
    },
    {
     "data": {
      "text/plain": [
       "<Figure size 640x480 with 0 Axes>"
      ]
     },
     "metadata": {},
     "output_type": "display_data"
    }
   ],
   "source": [
    "#val loss\n",
    "%matplotlib inline\n",
    "import matplotlib.pyplot as plt\n",
    "import tikzplotlib\n",
    "\n",
    "# Your data\n",
    "values_valloss = [18.487557973111116, 0.9909181476853512, 0.9171055336793263, 0.9017770489719179, 0.9207671606540679, 0.8846783424086041, 0.898206135807214, 0.8793942926989662, 0.9123772684070799, 0.8787577581957534, 0.8437685733812826, 0.8579460393057929, 0.8240902676626488, 0.8255106578877679, 0.8074102427782835, 0.8175696200353127, 0.8700701380659033, 0.8331488729406287, 0.7918910870728669, 0.7683126172092226, 0.7654494655132293]\n",
    "\n",
    "# Plotting\n",
    "#plt.plot(range(0, 21), values, marker='o')\n",
    "\n",
    "# Plot the validation loss\n",
    "plt.figure(figsize=(10, 5))\n",
    "plt.plot(range(0, 21), values_valloss, marker='o', label='Validation loss')\n",
    "plt.xticks(range(0, 21, 1))\n",
    "\n",
    "plt.xlabel('Epoch')\n",
    "plt.ylabel('Loss')\n",
    "plt.title('Validation loss vs. Epochs')\n",
    "\n",
    "\n",
    "plt.grid(True)\n",
    "plt.legend()\n",
    "plt.show()\n",
    "\n",
    "# Save the plot as a .tex file\n",
    "tikzplotlib.save('valuesvalloss_plot.tex')"
   ]
  },
  {
   "cell_type": "code",
   "execution_count": 11,
   "id": "6ffe83af-c40f-4c5c-b683-f438ac91f71d",
   "metadata": {},
   "outputs": [
    {
     "data": {
      "image/png": "[encoded data removed]",
      "text/plain": [
       "<Figure size 1000x500 with 1 Axes>"
      ]
     },
     "metadata": {},
     "output_type": "display_data"
    },
    {
     "data": {
      "text/plain": [
       "<Figure size 640x480 with 0 Axes>"
      ]
     },
     "metadata": {},
     "output_type": "display_data"
    }
   ],
   "source": [
    "#trainnf loss\n",
    "%matplotlib inline\n",
    "import matplotlib.pyplot as plt\n",
    "import tikzplotlib\n",
    "\n",
    "# Your data\n",
    "train_loss = [22.956580626147765, 1.5309720464878611, 0.9387662575725052, 0.8996459987869969, 0.8826862899269219, 0.8733724734104342, 0.8594574050743271, 0.8538101038750675, 0.841002127751708, 0.8306597386797269, 0.8254103514772875, 0.8221509224838681, 0.8162727301843741, 0.8016896704129047, 0.7953928905035611, 0.7786177866961117, 0.7653595804119552, 0.7880988998021241, 0.7521076491668268, 0.734149106449827, 0.7222175816115406]\n",
    "\n",
    "# Plotting\n",
    "#plt.plot(range(0, 21), values, marker='o')\n",
    "\n",
    "# Plot the train loss\n",
    "plt.figure(figsize=(10, 5))\n",
    "plt.plot(range(0, 21), train_loss, marker='o', label='Training loss')\n",
    "plt.xticks(range(0, 21, 1))\n",
    "\n",
    "plt.xlabel('Epoch')\n",
    "plt.ylabel('Loss')\n",
    "plt.title('Training loss vs. Epochs')\n",
    "\n",
    "\n",
    "plt.grid(True)\n",
    "plt.legend()\n",
    "plt.show()\n",
    "\n",
    "# Save the plot as a .tex file\n",
    "tikzplotlib.save('trainloss_plot.tex')"
   ]
  }
 ],
 "metadata": {
  "kernelspec": {
   "display_name": "Python 3 (ipykernel)",
   "language": "python",
   "name": "python3"
  },
  "language_info": {
   "codemirror_mode": {
    "name": "ipython",
    "version": 3
   },
   "file_extension": ".py",
   "mimetype": "text/x-python",
   "name": "python",
   "nbconvert_exporter": "python",
   "pygments_lexer": "ipython3",
   "version": "3.9.16"
  }
 },
 "nbformat": 4,
 "nbformat_minor": 5
}
